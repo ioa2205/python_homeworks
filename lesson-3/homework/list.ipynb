{
 "cells": [
  {
   "cell_type": "code",
   "execution_count": 3,
   "metadata": {},
   "outputs": [
    {
     "name": "stdout",
     "output_type": "stream",
     "text": [
      "2\n"
     ]
    }
   ],
   "source": [
    "# Problem 1\n",
    "a = [1,12,3,21,23,1,2]\n",
    "b = 1\n",
    "print(a.count(b))"
   ]
  },
  {
   "cell_type": "code",
   "execution_count": 5,
   "metadata": {},
   "outputs": [
    {
     "name": "stdout",
     "output_type": "stream",
     "text": [
      "Sum of elements in the list: 133\n"
     ]
    }
   ],
   "source": [
    "# Problem 2\n",
    "a = [1,2,3,4,6,4,3,65,45]\n",
    "print(f\"Sum of elements in the list: {sum(a)}\")"
   ]
  },
  {
   "cell_type": "code",
   "execution_count": 6,
   "metadata": {},
   "outputs": [
    {
     "name": "stdout",
     "output_type": "stream",
     "text": [
      "Largest element in the list: 65\n"
     ]
    }
   ],
   "source": [
    "# Problem 3\n",
    "a = [1,2,3,4,6,4,3,65,45]\n",
    "print(f\"Largest element in the list: {max(a)}\")"
   ]
  },
  {
   "cell_type": "code",
   "execution_count": 8,
   "metadata": {},
   "outputs": [
    {
     "name": "stdout",
     "output_type": "stream",
     "text": [
      "Smallest element in the list: 1\n"
     ]
    }
   ],
   "source": [
    "# Problem 4\n",
    "a = [1,2,3,4,6,4,3,65,45]\n",
    "print(f\"Smallest element in the list: {min(a)}\")"
   ]
  },
  {
   "cell_type": "code",
   "execution_count": 10,
   "metadata": {},
   "outputs": [
    {
     "name": "stdout",
     "output_type": "stream",
     "text": [
      "True\n"
     ]
    }
   ],
   "source": [
    "# Problem 5\n",
    "a = [1,2,3,4,6,4,3,65,45]\n",
    "b = 3\n",
    "print(bool(b in a))"
   ]
  },
  {
   "cell_type": "code",
   "execution_count": 14,
   "metadata": {},
   "outputs": [
    {
     "name": "stdout",
     "output_type": "stream",
     "text": [
      "1\n"
     ]
    }
   ],
   "source": [
    "# Problem 6\n",
    "a = [1,2,3,4,6,4,3,65,45]\n",
    "print(a[0] if a else None)"
   ]
  },
  {
   "cell_type": "code",
   "execution_count": 16,
   "metadata": {},
   "outputs": [
    {
     "name": "stdout",
     "output_type": "stream",
     "text": [
      "45\n"
     ]
    }
   ],
   "source": [
    "# Problem 7\n",
    "a = [1,2,3,4,6,4,3,65,45]\n",
    "print(a[-1] if a else None)"
   ]
  },
  {
   "cell_type": "code",
   "execution_count": 18,
   "metadata": {},
   "outputs": [
    {
     "name": "stdout",
     "output_type": "stream",
     "text": [
      "[1, 2, 3]\n"
     ]
    }
   ],
   "source": [
    "# Problem 8\n",
    "a = [1,2,3,4,6,4,3,65,45]\n",
    "b = a[:3]\n",
    "print(b)"
   ]
  },
  {
   "cell_type": "code",
   "execution_count": 26,
   "metadata": {},
   "outputs": [
    {
     "name": "stdout",
     "output_type": "stream",
     "text": [
      "[45, 65, 3, 4, 6, 4, 3, 2, 1]\n"
     ]
    }
   ],
   "source": [
    "# Problem 9\n",
    "a = [1,2,3,4,6,4,3,65,45]\n",
    "reverse_a= a[::-1]\n",
    "print(reverse_a)"
   ]
  },
  {
   "cell_type": "code",
   "execution_count": 30,
   "metadata": {},
   "outputs": [
    {
     "name": "stdout",
     "output_type": "stream",
     "text": [
      "[1, 2, 3, 3, 4, 4, 6, 45, 65]\n"
     ]
    }
   ],
   "source": [
    "# Problem 10\n",
    "a = [1,2,3,4,6,4,3,65,45]\n",
    "sorted_a = sorted(a)\n",
    "print(sorted_a)"
   ]
  },
  {
   "cell_type": "code",
   "execution_count": 31,
   "metadata": {},
   "outputs": [
    {
     "name": "stdout",
     "output_type": "stream",
     "text": [
      "[1, 2, 3, 4, 65, 6, 45]\n"
     ]
    }
   ],
   "source": [
    "# Problem 11\n",
    "a = [1,2,3,4,6,4,3,65,45]\n",
    "print(list(set(a)))"
   ]
  },
  {
   "cell_type": "code",
   "execution_count": 33,
   "metadata": {},
   "outputs": [
    {
     "name": "stdout",
     "output_type": "stream",
     "text": [
      "[1, 2, 2, 3, 4, 6, 4, 3, 65, 45]\n"
     ]
    }
   ],
   "source": [
    "# Problem 12\n",
    "a = [1,2,3,4,6,4,3,65,45]\n",
    "b = 2\n",
    "index = 2\n",
    "a.insert(b,index)\n",
    "print(a)"
   ]
  },
  {
   "cell_type": "code",
   "execution_count": 34,
   "metadata": {},
   "outputs": [
    {
     "name": "stdout",
     "output_type": "stream",
     "text": [
      "1\n"
     ]
    }
   ],
   "source": [
    "# Problem 13\n",
    "a = [1,2,3,4,6,4,3,65,45]\n",
    "b = 2\n",
    "print(a.index(b) if a else \"not exist\")"
   ]
  },
  {
   "cell_type": "code",
   "execution_count": 40,
   "metadata": {},
   "outputs": [
    {
     "name": "stdout",
     "output_type": "stream",
     "text": [
      "False\n"
     ]
    }
   ],
   "source": [
    "# Problem 14\n",
    "a = [1,2,3,4,6,12,31,65,45]\n",
    "print(len(a) == 0)"
   ]
  },
  {
   "cell_type": "code",
   "execution_count": 41,
   "metadata": {},
   "outputs": [
    {
     "name": "stdout",
     "output_type": "stream",
     "text": [
      "4\n"
     ]
    }
   ],
   "source": [
    "# Problem 14\n",
    "a = [1,2,3,4,6,4,3,65,45]\n",
    "print(sum(1 for x in a if x % 2 == 0))"
   ]
  },
  {
   "cell_type": "code",
   "execution_count": 42,
   "metadata": {},
   "outputs": [
    {
     "name": "stdout",
     "output_type": "stream",
     "text": [
      "5\n"
     ]
    }
   ],
   "source": [
    "# Problem 15\n",
    "a = [1,2,3,4,6,4,3,65,45]\n",
    "print(sum(1 for x in a if x % 2 == 1))"
   ]
  },
  {
   "cell_type": "code",
   "execution_count": 43,
   "metadata": {},
   "outputs": [
    {
     "name": "stdout",
     "output_type": "stream",
     "text": [
      "[1, 2, 3, 4, 6, 4, 3, 65, 45, 12, '12', 123, 'e32']\n"
     ]
    }
   ],
   "source": [
    "# Problem 16\n",
    "a = [1,2,3,4,6,4,3,65,45]\n",
    "b = [12,'12',123,'e32']\n",
    "print(a + b)"
   ]
  },
  {
   "cell_type": "code",
   "execution_count": 47,
   "metadata": {},
   "outputs": [
    {
     "name": "stdout",
     "output_type": "stream",
     "text": [
      "True\n"
     ]
    }
   ],
   "source": [
    "# Problem 18\n",
    "a = [1,2,3,4,6,4,3,65,45]\n",
    "b = [1,2,3]\n",
    "print(any(a[i:i+len(b)] == b for i in range(len(a)-len(b)+1)))"
   ]
  },
  {
   "cell_type": "code",
   "execution_count": 48,
   "metadata": {},
   "outputs": [
    {
     "name": "stdout",
     "output_type": "stream",
     "text": [
      "[1, 2, 123, 4, 6, 4, 3, 65, 45]\n"
     ]
    }
   ],
   "source": [
    "# Problem 19\n",
    "a = [1,2,3,4,6,4,3,65,45]\n",
    "b = 3\n",
    "c = 123\n",
    "a[a.index(b)] = c\n",
    "print(a)"
   ]
  },
  {
   "cell_type": "code",
   "execution_count": 50,
   "metadata": {},
   "outputs": [
    {
     "name": "stdout",
     "output_type": "stream",
     "text": [
      "45\n"
     ]
    }
   ],
   "source": [
    "# Problem 20\n",
    "a = [1,2,3,4,6,4,3,65,45]\n",
    "b = sorted(set(a), reverse=True)\n",
    "print(b[1])"
   ]
  },
  {
   "cell_type": "code",
   "execution_count": 51,
   "metadata": {},
   "outputs": [
    {
     "name": "stdout",
     "output_type": "stream",
     "text": [
      "2\n"
     ]
    }
   ],
   "source": [
    "# Problem 21\n",
    "a = [1,2,3,4,6,4,3,65,45]\n",
    "b = sorted(set(a))\n",
    "print(b[1])"
   ]
  },
  {
   "cell_type": "code",
   "execution_count": 58,
   "metadata": {},
   "outputs": [
    {
     "name": "stdout",
     "output_type": "stream",
     "text": [
      "[2, 4, 6, 4]\n"
     ]
    }
   ],
   "source": [
    "# Problem 22\n",
    "a = [1,2,3,4,6,4,3,65,45]\n",
    "b = [x for x in a if x % 2 == 0]\n",
    "print(b)"
   ]
  },
  {
   "cell_type": "code",
   "execution_count": 60,
   "metadata": {},
   "outputs": [
    {
     "name": "stdout",
     "output_type": "stream",
     "text": [
      "[1, 3, 3, 65, 45]\n"
     ]
    }
   ],
   "source": [
    "# Problem 23\n",
    "a = [1,2,3,4,6,4,3,65,45]\n",
    "b = [x for x in a if x % 2 == 1]\n",
    "print(b)"
   ]
  },
  {
   "cell_type": "code",
   "execution_count": 61,
   "metadata": {},
   "outputs": [
    {
     "name": "stdout",
     "output_type": "stream",
     "text": [
      "5\n"
     ]
    }
   ],
   "source": [
    "# Problem 24\n",
    "a = [1,2,3,4,6,4,3,65,45]\n",
    "print(len(b))"
   ]
  },
  {
   "cell_type": "code",
   "execution_count": 63,
   "metadata": {},
   "outputs": [
    {
     "name": "stdout",
     "output_type": "stream",
     "text": [
      "[1, 2, 3, 4, 6, 4, 3, 65, 45]\n"
     ]
    }
   ],
   "source": [
    "# Problem 25\n",
    "a = [1,2,3,4,6,4,3,65,45]\n",
    "b = a.copy()\n",
    "print(b)"
   ]
  },
  {
   "cell_type": "code",
   "execution_count": 64,
   "metadata": {},
   "outputs": [
    {
     "name": "stdout",
     "output_type": "stream",
     "text": [
      "2\n"
     ]
    }
   ],
   "source": [
    "# Problem 26\n",
    "a = [1,2,43,2,123,3242,234]\n",
    "n = len(a)\n",
    "print(a[n//2] if n % 2 == 1 else a[(n-1)/2:(n+1)/2])"
   ]
  },
  {
   "cell_type": "code",
   "execution_count": 1,
   "metadata": {},
   "outputs": [],
   "source": [
    "# Problem 27-40\n",
    "def find_maximum_of_sublist(lst, start, end):\n",
    "    return max(lst[start:end]) if lst[start:end] else None\n",
    "\n",
    "def find_minimum_of_sublist(lst, start, end):\n",
    "    return min(lst[start:end]) if lst[start:end] else None\n",
    "\n",
    "def remove_element_by_index(lst, index):\n",
    "    return lst[:index] + lst[index+1:] if 0 <= index < len(lst) else lst\n",
    "\n",
    "def check_if_list_is_sorted(lst):\n",
    "    return lst == sorted(lst)\n",
    "\n",
    "def repeat_elements(lst, n):\n",
    "    return sum(map(lambda x: [x]*n, lst), [])\n",
    "\n",
    "def merge_and_sort(lst1, lst2):\n",
    "    return sorted(lst1 + lst2)\n",
    "\n",
    "def find_all_indices(lst, element):\n",
    "    return list(filter(lambda i: lst[i] == element, range(len(lst))))\n",
    "\n",
    "def rotate_list(lst, k):\n",
    "    return lst[-(k % len(lst)):] + lst[:-(k % len(lst))] if lst else lst\n",
    "\n",
    "def create_range_list(start, end):\n",
    "    return list(range(start, end + 1))\n",
    "\n",
    "def sum_of_positive_numbers(lst):\n",
    "    return sum(filter(lambda x: x > 0, lst))\n",
    "\n",
    "def sum_of_negative_numbers(lst):\n",
    "    return sum(filter(lambda x: x < 0, lst))\n",
    "\n",
    "def check_palindrome(lst):\n",
    "    return lst == lst[::-1]\n",
    "\n",
    "def create_nested_list(lst, n):\n",
    "    return list(map(list, zip(*[iter(lst)] * (len(lst)//n + (len(lst) % n > 0)))))\n",
    "\n",
    "def get_unique_elements_in_order(lst):\n",
    "    return list(dict.fromkeys(lst))"
   ]
  }
 ],
 "metadata": {
  "kernelspec": {
   "display_name": "Python 3",
   "language": "python",
   "name": "python3"
  },
  "language_info": {
   "codemirror_mode": {
    "name": "ipython",
    "version": 3
   },
   "file_extension": ".py",
   "mimetype": "text/x-python",
   "name": "python",
   "nbconvert_exporter": "python",
   "pygments_lexer": "ipython3",
   "version": "3.12.5"
  }
 },
 "nbformat": 4,
 "nbformat_minor": 2
}
