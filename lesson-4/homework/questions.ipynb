{
 "cells": [
  {
   "cell_type": "markdown",
   "metadata": {},
   "source": [
    "These are answers for questions in the homework:"
   ]
  },
  {
   "cell_type": "markdown",
   "metadata": {},
   "source": [
    "1. Loops quiz: \n",
    "Congratulations, You have completed Python Flow Control ( If Else and Loops) Quiz.\n",
    "You scored 10.5 points out of 13 points in total.\n",
    "\n",
    "No of Correct Answers: 11\n",
    "No of wrong Answers: 2\n",
    "Number of unanswered questions: 0\n",
    "Your obtained grade is PASS "
   ]
  },
  {
   "cell_type": "markdown",
   "metadata": {},
   "source": [
    "2. What is the difference between the continue and break statements in Python?\n",
    "\n",
    " Difference between continue and break statements in Python:\n",
    "\n",
    "continue: This statement is used to skip the rest of the current iteration of a loop and move on to the next iteration. The loop doesn’t terminate, but it jumps to the next cycle.\n",
    "\n",
    "break: This statement is used to exit the loop entirely. Once break is executed, the loop is terminated and no further iterations are made."
   ]
  },
  {
   "cell_type": "markdown",
   "metadata": {},
   "source": [
    "3. Can you explain the difference between for loop and while loop?\n",
    "\n",
    "Difference between for loop and while loop:\n",
    "for loop:\n",
    "\n",
    "Typically used when the number of iterations is known beforehand or when iterating over a sequence (like a list, tuple, or range).\n",
    "Syntax: for item in iterable:\n",
    "Example:\n",
    "\n",
    "for i in range(3):\n",
    "    print(i)\n",
    "\n",
    "while loop:\n",
    "\n",
    "Used when the number of iterations is not necessarily known in advance and you want the loop to continue as long as a condition is True.\n",
    "Syntax: while condition:\n",
    "i = 0\n",
    "while i < 3:\n",
    "    print(i)\n",
    "    i += 1\n"
   ]
  },
  {
   "cell_type": "markdown",
   "metadata": {},
   "source": [
    "4. How would you implement a nested for loop system? Provide an example.\n",
    "\n",
    "A nested for loop is when you have one for loop inside another. The inner loop executes completely for each iteration of the outer loop.\n",
    "\n",
    "Example: Creating a multiplication table using nested for loops:\n",
    "\n",
    "for i in range(1, 6):  # Outer loop (1 to 5)\n",
    "    for j in range(1, 6):  # Inner loop (1 to 5)\n",
    "        print(f\"{i} x {j} = {i * j}\")\n",
    "\n",
    "In this example:\n",
    "\n",
    "The outer loop controls the first number in the multiplication (1 to 5).\n",
    "The inner loop runs through the second number (1 to 5) for each iteration of the outer loop, printing the result of the multiplication."
   ]
  }
 ],
 "metadata": {
  "language_info": {
   "name": "python"
  }
 },
 "nbformat": 4,
 "nbformat_minor": 2
}
